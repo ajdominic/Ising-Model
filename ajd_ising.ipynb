{
 "cells": [
  {
   "cell_type": "code",
   "execution_count": 1,
   "metadata": {},
   "outputs": [],
   "source": [
    "%matplotlib inline\n",
    "import random\n",
    "import numpy as np\n",
    "import matplotlib.pyplot as plt\n",
    "import scipy.integrate as integrate\n",
    "import itertools as it\n",
    "import calcs as c"
   ]
  },
  {
   "cell_type": "markdown",
   "metadata": {},
   "source": [
    "<b>Problem 1</b>: For a 3 $\\times$ 3 lattice, there are $2^9$ configurations possible."
   ]
  },
  {
   "cell_type": "code",
   "execution_count": 2,
   "metadata": {},
   "outputs": [
    {
     "name": "stdout",
     "output_type": "stream",
     "text": [
      "512\n"
     ]
    }
   ],
   "source": [
    "configs = 2**9\n",
    "print(configs)\n",
    "#print(np.permutation(9,2))"
   ]
  },
  {
   "cell_type": "code",
   "execution_count": 3,
   "metadata": {},
   "outputs": [],
   "source": [
    "# create the lattice\n",
    "lattices = c.create_lattices()"
   ]
  },
  {
   "cell_type": "code",
   "execution_count": 4,
   "metadata": {},
   "outputs": [],
   "source": [
    "J = 1.0\n",
    "T, E = c.onsager(J)"
   ]
  },
  {
   "cell_type": "code",
   "execution_count": 5,
   "metadata": {},
   "outputs": [
    {
     "name": "stdout",
     "output_type": "stream",
     "text": [
      "-3.9999999835107736\n",
      "-0.0039999986666672096\n"
     ]
    }
   ],
   "source": [
    "J, H = 1.0, 0.0\n",
    "lo_T, hi_T = 0.1, 1000.0\n",
    "Q_lo_T = 0.0\n",
    "Q_hi_T = 0.0\n",
    "avg_lo = 0.0\n",
    "avg_hi = 0.0\n",
    "\n",
    "for k in range(configs):\n",
    "    lattice = lattices[:, :, k]\n",
    "    ham = c.hammy(J, H, lattice)\n",
    "    lo_exp = np.exp(- ham / lo_T)\n",
    "    avg_lo += ham * lo_exp\n",
    "    Q_lo_T += lo_exp\n",
    "\n",
    "    hi_exp = np.exp(- ham / hi_T)\n",
    "    avg_hi += ham * hi_exp\n",
    "    Q_hi_T += hi_exp\n",
    "\n",
    "avg_lo /= Q_lo_T\n",
    "avg_hi /= Q_hi_T\n",
    "\n",
    "print(avg_lo)\n",
    "print(avg_hi)"
   ]
  },
  {
   "cell_type": "code",
   "execution_count": 6,
   "metadata": {},
   "outputs": [
    {
     "data": {
      "image/png": "[encoded data removed]",
      "text/plain": [
       "<Figure size 432x288 with 1 Axes>"
      ]
     },
     "metadata": {
      "needs_background": "light"
     },
     "output_type": "display_data"
    }
   ],
   "source": [
    "plt.plot(T, E)\n",
    "plt.show()"
   ]
  },
  {
   "cell_type": "code",
   "execution_count": null,
   "metadata": {},
   "outputs": [],
   "source": []
  }
 ],
 "metadata": {
  "kernelspec": {
   "display_name": "Python 3",
   "language": "python",
   "name": "python3"
  },
  "language_info": {
   "codemirror_mode": {
    "name": "ipython",
    "version": 3
   },
   "file_extension": ".py",
   "mimetype": "text/x-python",
   "name": "python",
   "nbconvert_exporter": "python",
   "pygments_lexer": "ipython3",
   "version": "3.7.3"
  }
 },
 "nbformat": 4,
 "nbformat_minor": 4
}
