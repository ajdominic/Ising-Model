{
 "cells": [
  {
   "cell_type": "code",
   "execution_count": 1,
   "metadata": {},
   "outputs": [],
   "source": [
    "%matplotlib inline\n",
    "import random\n",
    "import numpy as np\n",
    "import matplotlib.pyplot as plt\n",
    "import scipy.integrate as integrate\n",
    "import itertools as it"
   ]
  },
  {
   "cell_type": "markdown",
   "metadata": {},
   "source": [
    "<b>Problem 1</b>: For a 3 $\\times$ 3 lattice, there are $2^9$ configurations possible."
   ]
  },
  {
   "cell_type": "code",
   "execution_count": 2,
   "metadata": {},
   "outputs": [
    {
     "name": "stdout",
     "output_type": "stream",
     "text": [
      "512\n"
     ]
    }
   ],
   "source": [
    "configs = 2**9\n",
    "print(configs)\n",
    "#print(np.permutation(9,2))"
   ]
  },
  {
   "cell_type": "code",
   "execution_count": 3,
   "metadata": {},
   "outputs": [],
   "source": [
    "def is_in(item, array):\n",
    "    \"\"\"\n",
    "    This function returns true if the given item is in the\n",
    "    array and false if the given item is not in the array.\n",
    "    \"\"\"\n",
    "    value = False\n",
    "    ctr = 0\n",
    "    while((value is False) and (ctr < array.shape[-1])):\n",
    "        if (array[ctr] == item):\n",
    "            value = True\n",
    "        ctr += 1\n",
    "    return value"
   ]
  },
  {
   "cell_type": "code",
   "execution_count": 4,
   "metadata": {},
   "outputs": [
    {
     "name": "stdout",
     "output_type": "stream",
     "text": [
      "['1', '1', '1', '1']\n"
     ]
    }
   ],
   "source": [
    "a = \"1111\"\n",
    "print([char for char in a])"
   ]
  },
  {
   "cell_type": "code",
   "execution_count": 5,
   "metadata": {},
   "outputs": [],
   "source": [
    "def list_to_array(some_list, dim):\n",
    "    length = len(some_list)\n",
    "    temp = []\n",
    "    for i in some_list:\n",
    "        i.split()  \n",
    "    array = np.zeros()"
   ]
  },
  {
   "cell_type": "code",
   "execution_count": 6,
   "metadata": {},
   "outputs": [
    {
     "name": "stdout",
     "output_type": "stream",
     "text": [
      "False\n"
     ]
    }
   ],
   "source": [
    "# testing my function that tests if an element is in an array\n",
    "A = np.array([1, 2, 3, 4, 5, 6])\n",
    "print(is_in(8, A))"
   ]
  },
  {
   "cell_type": "code",
   "execution_count": 7,
   "metadata": {},
   "outputs": [],
   "source": [
    "def create_lattices(dim=3):\n",
    "    \"\"\"\n",
    "    This function creates a dim x dim spin lattice.\n",
    "    Returns a tensor of dimension dim x dim x dim^2.\n",
    "    \"\"\"\n",
    "    # total elements for each lattice and the possible spins\n",
    "    n2 = dim * dim\n",
    "    spins = ['1', '0']\n",
    "\n",
    "    # total configuration number and the possible configurations\n",
    "    configs = 2**n2\n",
    "    possible_configs = [\"\".join(item) for item in it.product(spins, repeat=n2)]\n",
    "\n",
    "    # populating the spin tensor\n",
    "    spin_tensor = np.zeros([dim, dim, configs], float)\n",
    "    for k in range(configs):\n",
    "        config_temp = possible_configs[k]\n",
    "        temp = [char for char in config_temp] # parses the characters\n",
    "        array_temp = np.array(temp, float) # convert from list to array\n",
    "        reshaped = np.reshape(array_temp, (3, 3)) # reshape the list\n",
    "        spin_tensor[:, :, k] = np.where(reshaped == 0, -1, reshaped)\n",
    "\n",
    "    return spin_tensor"
   ]
  },
  {
   "cell_type": "code",
   "execution_count": 8,
   "metadata": {},
   "outputs": [],
   "source": [
    "def nn(lat, r, c):\n",
    "    # the number of rows/columns in the lattice\n",
    "    dim = int(lat.shape[0])\n",
    "\n",
    "    # the spin at a given index in the lattice\n",
    "    spin = lat[r, c]\n",
    "\n",
    "    # get the spins of the neighbors above and below\n",
    "    up = lat[r-1, c]\n",
    "    down = lat[(r+1)%dim, c]\n",
    "\n",
    "    # get the spins of the right and left neighbors\n",
    "    right = lat[r, (c+1)%dim]\n",
    "    left = lat[r, c-1]\n",
    "\n",
    "    # return the sum\n",
    "    total = spin * (up + down + left + right)\n",
    "\n",
    "    return total"
   ]
  },
  {
   "cell_type": "code",
   "execution_count": 9,
   "metadata": {},
   "outputs": [],
   "source": [
    "def hammy(J, H, lattice):\n",
    "    dim = lattice.shape[0]\n",
    "    nn_sum = 0.0\n",
    "    for j in range(dim):\n",
    "        for k in range(dim):\n",
    "            nn_sum = nn(lattice, j, k)\n",
    "\n",
    "    term1 = - J * nn_sum\n",
    "    term2 = - H * np.sum(lattice)\n",
    "\n",
    "    return term1 + term2"
   ]
  },
  {
   "cell_type": "code",
   "execution_count": 15,
   "metadata": {},
   "outputs": [],
   "source": [
    "def f1(theta, T, J, kb=1.0):\n",
    "    beta = 1.0 / (T * kb)\n",
    "    k = 1.0 / (np.sinh(2.0 * beta * J))**2\n",
    "    \n",
    "    denom = (1 - 4 * k / (1 + k)**2 * (np.sin(theta))**2)\n",
    "    integrand = np.sqrt(1.0 / denom)\n",
    "\n",
    "    return integrand"
   ]
  },
  {
   "cell_type": "code",
   "execution_count": 10,
   "metadata": {},
   "outputs": [],
   "source": [
    "# create the lattice\n",
    "lattices = create_lattices()"
   ]
  },
  {
   "cell_type": "code",
   "execution_count": 11,
   "metadata": {},
   "outputs": [
    {
     "name": "stdout",
     "output_type": "stream",
     "text": [
      "-3.9999999835107736\n",
      "-0.0039999986666672096\n"
     ]
    }
   ],
   "source": [
    "J, H = 1.0, 0.0\n",
    "lo_T, hi_T = 0.1, 1000.0\n",
    "Q_lo_T = 0.0\n",
    "Q_hi_T = 0.0\n",
    "avg_lo = 0.0\n",
    "avg_hi = 0.0\n",
    "\n",
    "for k in range(configs):\n",
    "    lattice = lattices[:, :, k]\n",
    "    ham = hammy(J, H, lattice)\n",
    "    lo_exp = np.exp(- ham / lo_T)\n",
    "    avg_lo += ham * lo_exp\n",
    "    Q_lo_T += lo_exp\n",
    "\n",
    "    hi_exp = np.exp(- ham / hi_T)\n",
    "    avg_hi += ham * hi_exp\n",
    "    Q_hi_T += hi_exp\n",
    "\n",
    "avg_lo /= Q_lo_T\n",
    "avg_hi /= Q_hi_T\n",
    "\n",
    "print(avg_lo)\n",
    "print(avg_hi)"
   ]
  },
  {
   "cell_type": "code",
   "execution_count": 29,
   "metadata": {},
   "outputs": [],
   "source": [
    "J = 1.0\n",
    "lb = 0.1\n",
    "ub = 50.0\n",
    "dt = 0.5\n",
    "kb = 1.0\n",
    "T_array = np.arange(lb, ub, dt)\n",
    "int_array = np.zeros_like(T_array, float)\n",
    "E_array = np.zeros_like(T_array, float)\n",
    "for k in range(len(T_array)):\n",
    "    T = T_array[k]\n",
    "    beta = 1.0 / (kb * T)\n",
    "    val = integrate.quad(lambda x: f1(x, T, J), 0.0, np.pi / 2)\n",
    "    int_array[k] = np.sum(val)\n",
    "    temp2 = (2.0 * np.tanh(2 * beta * J))**2 - 1\n",
    "    temp3 = 1.0 + 2.0 * temp2 / np.pi * np.sum(val)\n",
    "    temp4 = - J * 1 / np.tanh(2 * beta * J) * temp3\n",
    "    E_array[k] = temp4"
   ]
  },
  {
   "cell_type": "code",
   "execution_count": 30,
   "metadata": {},
   "outputs": [
    {
     "data": {
      "image/png": "[encoded data removed]",
      "text/plain": [
       "<Figure size 432x288 with 1 Axes>"
      ]
     },
     "metadata": {
      "needs_background": "light"
     },
     "output_type": "display_data"
    }
   ],
   "source": [
    "plt.plot(T_array, int_array)\n",
    "plt.show()"
   ]
  },
  {
   "cell_type": "code",
   "execution_count": 36,
   "metadata": {},
   "outputs": [
    {
     "data": {
      "image/png": "[encoded data removed]",
      "text/plain": [
       "<Figure size 432x288 with 1 Axes>"
      ]
     },
     "metadata": {
      "needs_background": "light"
     },
     "output_type": "display_data"
    }
   ],
   "source": [
    "plt.plot(T_array, E_array)\n",
    "plt.show()"
   ]
  },
  {
   "cell_type": "code",
   "execution_count": null,
   "metadata": {},
   "outputs": [],
   "source": []
  }
 ],
 "metadata": {
  "kernelspec": {
   "display_name": "Python 3",
   "language": "python",
   "name": "python3"
  },
  "language_info": {
   "codemirror_mode": {
    "name": "ipython",
    "version": 3
   },
   "file_extension": ".py",
   "mimetype": "text/x-python",
   "name": "python",
   "nbconvert_exporter": "python",
   "pygments_lexer": "ipython3",
   "version": "3.7.3"
  }
 },
 "nbformat": 4,
 "nbformat_minor": 4
}
