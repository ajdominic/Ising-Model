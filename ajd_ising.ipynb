{
 "cells": [
  {
   "cell_type": "code",
   "execution_count": 1,
   "metadata": {},
   "outputs": [],
   "source": [
    "%matplotlib inline\n",
    "import random\n",
    "import numpy as np\n",
    "import matplotlib.pyplot as plt\n",
    "import scipy.integrate as integrate\n",
    "import itertools as it\n",
    "import calcs as c"
   ]
  },
  {
   "cell_type": "markdown",
   "metadata": {},
   "source": [
    "## Subproject 1"
   ]
  },
  {
   "cell_type": "markdown",
   "metadata": {},
   "source": [
    "<b>Problem 1</b>: For a 3 $\\times$ 3 lattice, there are $2^9$ configurations possible."
   ]
  },
  {
   "cell_type": "code",
   "execution_count": 2,
   "metadata": {},
   "outputs": [
    {
     "name": "stdout",
     "output_type": "stream",
     "text": [
      "There are 512 configurations.\n"
     ]
    }
   ],
   "source": [
    "configs = 2**9\n",
    "print(\"There are \" + str(configs) + \" configurations.\")"
   ]
  },
  {
   "cell_type": "markdown",
   "metadata": {},
   "source": [
    "<b>Problem 2:</b> The code for this is found in the <i>calcs.py</i> file and enumerates all possible configurations."
   ]
  },
  {
   "cell_type": "code",
   "execution_count": 3,
   "metadata": {},
   "outputs": [],
   "source": [
    "# creating the lattice (code is in the calcs.py file)\n",
    "lattices = c.create_lattices()"
   ]
  },
  {
   "cell_type": "code",
   "execution_count": 4,
   "metadata": {},
   "outputs": [
    {
     "name": "stdout",
     "output_type": "stream",
     "text": [
      "[[ 1.  1. -1.]\n",
      " [-1.  1.  1.]\n",
      " [-1.  1.  1.]]\n"
     ]
    }
   ],
   "source": [
    "# Here is a sample\n",
    "print(lattices[:, :, 100])"
   ]
  },
  {
   "cell_type": "markdown",
   "metadata": {},
   "source": [
    "<b>Problem 3:</b> The code for this is given by the functions \"hammy\" and \"nn\" in the <i>calcs.py</i> file.\n",
    "\n",
    "<b>Problem 4:</b> Using the code in <b>3</b> to calculate the partition function and internal energy of the lattice at $T=0.1$ K and $T=1000$ K."
   ]
  },
  {
   "cell_type": "code",
   "execution_count": 7,
   "metadata": {},
   "outputs": [],
   "source": [
    "J, H = 1.0, 0.0\n",
    "T = [0.1, 1000.0]\n",
    "Q_lo_T, avg_lo = c.get_Q_and_E(0.1, 1.0, 0.0, lattices)\n",
    "Q_hi_T, avg_hi = c.get_Q_and_E(1000.0, 1.0, 0.0, lattices)"
   ]
  },
  {
   "cell_type": "code",
   "execution_count": 18,
   "metadata": {},
   "outputs": [
    {
     "name": "stdout",
     "output_type": "stream",
     "text": [
      "The average energy in the low temperature regime is -18.0.\n",
      "The average energy in the high temperature regime is -0.018018.\n",
      "The partition function in the low temperature regime is 2.9787684e+78.\n",
      "The partition function in the high temperature regime is 512.00461.\n"
     ]
    }
   ],
   "source": [
    "print(\"The average energy in the low temperature regime is \" + str(avg_lo)[0:9] + \".\")\n",
    "print(\"The average energy in the high temperature regime is \" + str(avg_hi)[0:9] + \".\")\n",
    "print(\"The partition function in the low temperature regime is \"\n",
    "      + str(Q_lo_T)[0:9] + str(Q_lo_T)[-4:] + \".\")\n",
    "print(\"The partition function in the high temperature regime is \" + str(Q_hi_T)[0:9] + \".\")"
   ]
  },
  {
   "cell_type": "markdown",
   "metadata": {},
   "source": [
    "<b>Explanation:</b> In the low $T$ limit, I would expect $Q$ to blow up to infinity as we are summing exponentials with exponents dependent on inverse temperature. In the high $T$ limit, I would expect $Q$ to approach $512$ because $1/kT \\rightarrow 0$ as $T \\rightarrow \\infty$, making $Q$ approximately equivalent to adding $1$ to itself $512$ times. These results are in agreement with this mathematical argument."
   ]
  },
  {
   "cell_type": "markdown",
   "metadata": {},
   "source": [
    "## Subproject 2"
   ]
  },
  {
   "cell_type": "code",
   "execution_count": 34,
   "metadata": {},
   "outputs": [
    {
     "data": {
      "image/png": "[encoded data removed]",
      "text/plain": [
       "<Figure size 504x360 with 1 Axes>"
      ]
     },
     "metadata": {
      "needs_background": "light"
     },
     "output_type": "display_data"
    }
   ],
   "source": [
    "J = 1.0\n",
    "T, E = c.onsager(J)\n",
    "c.plt_onsager(T, E)"
   ]
  },
  {
   "cell_type": "code",
   "execution_count": 45,
   "metadata": {},
   "outputs": [
    {
     "name": "stdout",
     "output_type": "stream",
     "text": [
      "(99,)\n"
     ]
    }
   ],
   "source": [
    "E_array = np.zeros_like(T, float)\n",
    "print(T.shape)\n",
    "for k in range(T.shape[-1]):\n",
    "    Temp = T[k]\n",
    "    E_array[k] = c.get_Q_and_E(Temp, 1.0, 0.0, lattices)[1]"
   ]
  },
  {
   "cell_type": "code",
   "execution_count": 48,
   "metadata": {},
   "outputs": [
    {
     "data": {
      "image/png": "[encoded data removed]",
      "text/plain": [
       "<Figure size 432x288 with 1 Axes>"
      ]
     },
     "metadata": {
      "needs_background": "light"
     },
     "output_type": "display_data"
    }
   ],
   "source": [
    "plt.plot(T, -2 * E_array / np.min(E_array))\n",
    "plt.plot(T, E, \"black\", lw=1)\n",
    "plt.show()"
   ]
  },
  {
   "cell_type": "code",
   "execution_count": null,
   "metadata": {},
   "outputs": [],
   "source": []
  }
 ],
 "metadata": {
  "kernelspec": {
   "display_name": "Python 3",
   "language": "python",
   "name": "python3"
  },
  "language_info": {
   "codemirror_mode": {
    "name": "ipython",
    "version": 3
   },
   "file_extension": ".py",
   "mimetype": "text/x-python",
   "name": "python",
   "nbconvert_exporter": "python",
   "pygments_lexer": "ipython3",
   "version": "3.7.3"
  }
 },
 "nbformat": 4,
 "nbformat_minor": 4
}
