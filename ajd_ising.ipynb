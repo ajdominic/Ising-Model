{
 "cells": [
  {
   "cell_type": "code",
   "execution_count": 1,
   "metadata": {},
   "outputs": [],
   "source": [
    "%matplotlib inline\n",
    "import random\n",
    "import numpy as np\n",
    "import matplotlib.pyplot as plt\n",
    "import scipy.integrate as integrate\n",
    "import itertools as it\n",
    "import calcs as c"
   ]
  },
  {
   "cell_type": "markdown",
   "metadata": {},
   "source": [
    "## Subproject 1"
   ]
  },
  {
   "cell_type": "markdown",
   "metadata": {},
   "source": [
    "<b>Problem 1</b>: For a 3 $\\times$ 3 lattice, there are $2^9$ configurations possible."
   ]
  },
  {
   "cell_type": "code",
   "execution_count": 2,
   "metadata": {},
   "outputs": [
    {
     "name": "stdout",
     "output_type": "stream",
     "text": [
      "There are 512 configurations.\n"
     ]
    }
   ],
   "source": [
    "configs = 2**9\n",
    "print(\"There are \" + str(configs) + \" configurations.\")"
   ]
  },
  {
   "cell_type": "markdown",
   "metadata": {},
   "source": [
    "<b>Problem 2:</b> The code for this is found in the <i>calcs.py</i> file and enumerates all possible configurations."
   ]
  },
  {
   "cell_type": "code",
   "execution_count": 3,
   "metadata": {},
   "outputs": [],
   "source": [
    "# creating the lattice (code is in the calcs.py file)\n",
    "lattices = c.create_lattices()"
   ]
  },
  {
   "cell_type": "code",
   "execution_count": 4,
   "metadata": {},
   "outputs": [
    {
     "name": "stdout",
     "output_type": "stream",
     "text": [
      "[[ 1.  1. -1.]\n",
      " [-1.  1.  1.]\n",
      " [-1.  1.  1.]]\n"
     ]
    }
   ],
   "source": [
    "# Here is one lattice\n",
    "print(lattices[:, :, 100])"
   ]
  },
  {
   "cell_type": "markdown",
   "metadata": {},
   "source": [
    "<b>Problem 3:</b> The code for this is given by the functions \"hammy\" and \"nn\" in the <i>calcs.py</i> file.\n",
    "\n",
    "<b>Problem 4:</b> Using the code in <b>3</b> to calculate the partition function and internal energy of the lattice at $T=0.1$ K and $T=1000$ K."
   ]
  },
  {
   "cell_type": "code",
   "execution_count": 5,
   "metadata": {},
   "outputs": [
    {
     "name": "stdout",
     "output_type": "stream",
     "text": [
      "The average energy in the low temperature regime is -18.0.\n",
      "The average energy in the high temperature regime is -0.018018030150273916.\n",
      "The partition function in the low temperature regime is 2.9787684015636766e+78.\n",
      "The partition function in the high temperature regime is 512.0046110966192.\n"
     ]
    }
   ],
   "source": [
    "J, H = 1.0, 0.0\n",
    "lo_T, hi_T = 0.1, 1000.0\n",
    "Q_lo_T = 0.0\n",
    "Q_hi_T = 0.0\n",
    "avg_lo = 0.0\n",
    "avg_hi = 0.0\n",
    "\n",
    "# looping over each configuration\n",
    "for k in range(configs):\n",
    "\n",
    "    # get a particular lattice\n",
    "    lattice = lattices[:, :, k]\n",
    "\n",
    "    # calculate the energy\n",
    "    ham = c.hammy(J, H, lattice)\n",
    "\n",
    "    # compute the Boltzman factors\n",
    "    lo_exp = np.exp(- ham / lo_T)\n",
    "    hi_exp = np.exp(- ham / hi_T)\n",
    "\n",
    "    # compute the average energies\n",
    "    avg_lo += ham * lo_exp\n",
    "    avg_hi += ham * hi_exp\n",
    "\n",
    "    # compute the partition functions\n",
    "    Q_lo_T += lo_exp\n",
    "    Q_hi_T += hi_exp\n",
    "\n",
    "avg_lo /= Q_lo_T\n",
    "avg_hi /= Q_hi_T\n",
    "\n",
    "print(\"The average energy in the low temperature regime is \" + str(avg_lo)[:] + \".\")\n",
    "print(\"The average energy in the high temperature regime is \" + str(avg_hi)[:] + \".\")\n",
    "print(\"The partition function in the low temperature regime is \" + str(Q_lo_T)[:] + \".\")\n",
    "print(\"The partition function in the high temperature regime is \" + str(Q_hi_T)[:] + \".\")"
   ]
  },
  {
   "cell_type": "markdown",
   "metadata": {},
   "source": [
    "<b>Explanation:</b> In the low $T$ limit, I would expect $Q$ to blow up to infinity as we are summing exponentials with exponents dependent on inverse temperature. In the high $T$ limit, I would expect $Q$ to approach $512$ because $1/kT \\rightarrow 0$ as $T \\rightarrow \\infty$, making $Q$ approximately equivalent to adding $1$ to itself $512$ times. These results are in line with this mathematical argument."
   ]
  },
  {
   "cell_type": "markdown",
   "metadata": {},
   "source": [
    "## Subproject 2"
   ]
  },
  {
   "cell_type": "code",
   "execution_count": null,
   "metadata": {},
   "outputs": [],
   "source": [
    "J = 1.0\n",
    "T, E = c.onsager(J)\n",
    "c.plt_onsager(T, E)"
   ]
  },
  {
   "cell_type": "code",
   "execution_count": null,
   "metadata": {},
   "outputs": [],
   "source": []
  },
  {
   "cell_type": "code",
   "execution_count": null,
   "metadata": {},
   "outputs": [],
   "source": []
  },
  {
   "cell_type": "code",
   "execution_count": null,
   "metadata": {},
   "outputs": [],
   "source": []
  }
 ],
 "metadata": {
  "kernelspec": {
   "display_name": "Python 3",
   "language": "python",
   "name": "python3"
  },
  "language_info": {
   "codemirror_mode": {
    "name": "ipython",
    "version": 3
   },
   "file_extension": ".py",
   "mimetype": "text/x-python",
   "name": "python",
   "nbconvert_exporter": "python",
   "pygments_lexer": "ipython3",
   "version": "3.7.3"
  }
 },
 "nbformat": 4,
 "nbformat_minor": 4
}
