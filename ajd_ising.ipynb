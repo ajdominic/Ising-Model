{
 "cells": [
  {
   "cell_type": "code",
   "execution_count": 1,
   "metadata": {},
   "outputs": [],
   "source": [
    "%matplotlib inline\n",
    "import random\n",
    "import numpy as np\n",
    "import matplotlib.pyplot as plt\n",
    "import scipy.integrate as integrate\n",
    "import itertools as it"
   ]
  },
  {
   "cell_type": "markdown",
   "metadata": {},
   "source": [
    "<b>Problem 1</b>: For a 3 $\\times$ 3 lattice, there are $2^9$ configurations possible."
   ]
  },
  {
   "cell_type": "code",
   "execution_count": 2,
   "metadata": {},
   "outputs": [
    {
     "name": "stdout",
     "output_type": "stream",
     "text": [
      "512\n"
     ]
    }
   ],
   "source": [
    "configs = 2**9\n",
    "print(configs)\n",
    "#print(np.permutation(9,2))"
   ]
  },
  {
   "cell_type": "code",
   "execution_count": 3,
   "metadata": {},
   "outputs": [],
   "source": [
    "def is_in(item, array):\n",
    "    \"\"\"\n",
    "    This function returns true if the given item is in the\n",
    "    array and false if the given item is not in the array.\n",
    "    \"\"\"\n",
    "    value = False\n",
    "    ctr = 0\n",
    "    while((value is False) and (ctr < array.shape[-1])):\n",
    "        if (array[ctr] == item):\n",
    "            value = True\n",
    "        ctr += 1\n",
    "    return value"
   ]
  },
  {
   "cell_type": "code",
   "execution_count": 4,
   "metadata": {},
   "outputs": [
    {
     "name": "stdout",
     "output_type": "stream",
     "text": [
      "['1', '1', '1', '1']\n"
     ]
    }
   ],
   "source": [
    "a = \"1111\"\n",
    "print([char for char in a])"
   ]
  },
  {
   "cell_type": "code",
   "execution_count": 5,
   "metadata": {},
   "outputs": [],
   "source": [
    "def list_to_array(some_list, dim):\n",
    "    length = len(some_list)\n",
    "    temp = []\n",
    "    for i in some_list:\n",
    "        i.split()  \n",
    "    array = np.zeros()"
   ]
  },
  {
   "cell_type": "code",
   "execution_count": 6,
   "metadata": {},
   "outputs": [
    {
     "name": "stdout",
     "output_type": "stream",
     "text": [
      "False\n"
     ]
    }
   ],
   "source": [
    "# testing my function that tests if an element is in an array\n",
    "A = np.array([1, 2, 3, 4, 5, 6])\n",
    "print(is_in(8, A))"
   ]
  },
  {
   "cell_type": "code",
   "execution_count": 7,
   "metadata": {},
   "outputs": [],
   "source": [
    "def create_lattice(dim=3):\n",
    "    n2 = dim * dim\n",
    "    configs = 2**n2\n",
    "    spins = ['1', '0']\n",
    "    possible_configs = [\"\".join(item) for item in it.product(spins, repeat=n2)]\n",
    "    spin_tensor = np.zeros([dim, dim, configs], float)\n",
    "    for k in range(configs):\n",
    "        config_temp = possible_configs[k] \n",
    "        temp = [char for char in config_temp]\n",
    "        array_temp = np.array(temp, float)\n",
    "        reshaped = np.reshape(array_temp, (3, 3))\n",
    "        spin_tensor[:, :, k] = np.where(reshaped == 0, -1, reshaped)\n",
    "    return spin_tensor"
   ]
  },
  {
   "cell_type": "code",
   "execution_count": 10,
   "metadata": {},
   "outputs": [
    {
     "name": "stdout",
     "output_type": "stream",
     "text": [
      "[[[ 1.  1.  1. ... -1. -1. -1.]\n",
      "  [ 1.  1.  1. ... -1. -1. -1.]\n",
      "  [ 1.  1.  1. ... -1. -1. -1.]]\n",
      "\n",
      " [[ 1.  1.  1. ... -1. -1. -1.]\n",
      "  [ 1.  1.  1. ... -1. -1. -1.]\n",
      "  [ 1.  1.  1. ... -1. -1. -1.]]\n",
      "\n",
      " [[ 1.  1.  1. ... -1. -1. -1.]\n",
      "  [ 1.  1. -1. ...  1. -1. -1.]\n",
      "  [ 1. -1.  1. ... -1.  1. -1.]]]\n"
     ]
    }
   ],
   "source": []
  },
  {
   "cell_type": "code",
   "execution_count": null,
   "metadata": {},
   "outputs": [],
   "source": []
  },
  {
   "cell_type": "code",
   "execution_count": null,
   "metadata": {},
   "outputs": [],
   "source": []
  }
 ],
 "metadata": {
  "kernelspec": {
   "display_name": "Python 3",
   "language": "python",
   "name": "python3"
  },
  "language_info": {
   "codemirror_mode": {
    "name": "ipython",
    "version": 3
   },
   "file_extension": ".py",
   "mimetype": "text/x-python",
   "name": "python",
   "nbconvert_exporter": "python",
   "pygments_lexer": "ipython3",
   "version": "3.7.3"
  }
 },
 "nbformat": 4,
 "nbformat_minor": 4
}
